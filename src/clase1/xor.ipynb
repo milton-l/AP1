{
 "cells": [
  {
   "cell_type": "code",
   "execution_count": 185,
   "metadata": {},
   "outputs": [],
   "source": [
    "import numpy as np\n",
    "import matplotlib.pyplot as plt\n",
    "import seaborn as sns"
   ]
  },
  {
   "cell_type": "code",
   "execution_count": 186,
   "metadata": {},
   "outputs": [],
   "source": [
    "def sigmoid(x):\n",
    "    return 1 / (1 + np.exp(-x))\n",
    "\n",
    "\n",
    "def sigmoid_derivative(x):\n",
    "    return x * (1 - x)"
   ]
  },
  {
   "cell_type": "code",
   "execution_count": 187,
   "metadata": {},
   "outputs": [],
   "source": [
    "def mse(y, output):\n",
    "    return np.mean((y - output) ** 2)\n",
    "\n",
    "\n",
    "def mse_derivative(y_true, y_pred):\n",
    "    return 2 * (y_pred - y_true) / y_true.size"
   ]
  },
  {
   "cell_type": "code",
   "execution_count": 188,
   "metadata": {},
   "outputs": [],
   "source": [
    "class NeuralNetwork:\n",
    "    def __init__(self, input_size, hidden_size, output_size):\n",
    "        # Initialize the weights and biases randomly\n",
    "        # W1: weights for the input layer to the hidden layer\n",
    "        # b1: biases for the hidden layer\n",
    "        # W2: weights for the hidden layer to the output layer\n",
    "        # b2: biases for the output layer\n",
    "        self.W1 = np.random.randn(input_size, hidden_size)\n",
    "        self.b1 = np.random.randn(hidden_size)\n",
    "        self.W2 = np.random.randn(hidden_size, output_size)\n",
    "        self.b2 = np.random.randn(output_size)\n",
    "\n",
    "    def forward(self, X):\n",
    "        # Forward propagation\n",
    "        # Compute the weighted sum of inputs and biases for the hidden layer\n",
    "        self.z1 = X @ self.W1 + self.b1\n",
    "        # Apply the sigmoid activation function to the weighted sum of the hidden layer\n",
    "        self.a1 = sigmoid(self.z1)\n",
    "        # Compute the weighted sum of hidden layer outputs and biases for the output layer\n",
    "        self.z2 = self.a1 @ self.W2 + self.b2\n",
    "        # Apply the sigmoid activation function to the weighted sum of the output layer\n",
    "        output = sigmoid(self.z2)\n",
    "        return output\n",
    "\n",
    "    def backward(self, X, y, output):\n",
    "        # Backpropagation\n",
    "        # Compute the error between the predicted output and the true labels\n",
    "        output_error = y - output\n",
    "        # Compute the delta for the output layer using the derivative of the sigmoid function\n",
    "        output_delta = output_error * sigmoid_derivative(output)\n",
    "\n",
    "        # Compute the error for the hidden layer by propagating the output delta backwards\n",
    "        hidden_error = output_delta @ self.W2.T\n",
    "        # Compute the delta for the hidden layer using the derivative of the sigmoid function\n",
    "        hidden_delta = hidden_error * sigmoid_derivative(self.a1)\n",
    "\n",
    "        # Compute gradients for weights and biases\n",
    "        # Compute the gradient for W2 using the outer product of the hidden layer outputs and output delta\n",
    "        self.W2_gradient = self.a1.T @ output_delta\n",
    "        # Compute the gradient for b2 by summing the output delta along the rows\n",
    "        self.b2_gradient = np.sum(output_delta, axis=0)\n",
    "        # Compute the gradient for W1 using the outer product of the input X and hidden delta\n",
    "        self.W1_gradient = X.T @ hidden_delta\n",
    "        # Compute the gradient for b1 by summing the hidden delta along the rows\n",
    "        self.b1_gradient = np.sum(hidden_delta, axis=0)\n",
    "\n",
    "    def update_weights(self, learning_rate):\n",
    "        # Stochastic Gradient Descent (SGD) update\n",
    "        # Update the weights and biases using the computed gradients and the learning rate\n",
    "        self.W2 += learning_rate * self.W2_gradient\n",
    "        self.b2 += learning_rate * self.b2_gradient\n",
    "        self.W1 += learning_rate * self.W1_gradient\n",
    "        self.b1 += learning_rate * self.b1_gradient\n",
    "\n",
    "    def train(self, X, y, epochs, learning_rate):\n",
    "        losses = []\n",
    "        for epoch in range(epochs):\n",
    "            # Forward propagation\n",
    "            output = self.forward(X)\n",
    "            # Compute the mean squared error loss\n",
    "            loss = mse(y, output)\n",
    "            losses.append(loss)\n",
    "            # Backpropagation\n",
    "            self.backward(X, y, output)\n",
    "            # Update weights and biases using SGD\n",
    "            self.update_weights(learning_rate)\n",
    "            # Print the loss every 1000 epochs\n",
    "            if (epoch + 1) % 1000 == 0:\n",
    "                print(f\"Epoch: {epoch + 1}, Loss: {loss}\")\n",
    "        return losses\n",
    "\n",
    "    def predict(self, X):\n",
    "        # Make predictions using the trained network\n",
    "        return self.forward(X)"
   ]
  },
  {
   "cell_type": "code",
   "execution_count": 189,
   "metadata": {},
   "outputs": [
    {
     "name": "stdout",
     "output_type": "stream",
     "text": [
      "Epoch: 1000, Loss: 0.24997985073278742\n",
      "Epoch: 2000, Loss: 0.2458007152978481\n",
      "Epoch: 3000, Loss: 0.21369391224842102\n",
      "Epoch: 4000, Loss: 0.1378748901488997\n",
      "Epoch: 5000, Loss: 0.0401485343217461\n",
      "Epoch: 6000, Loss: 0.01513373639489348\n",
      "Epoch: 7000, Loss: 0.0084380656641651\n",
      "Epoch: 8000, Loss: 0.0056619714484528495\n",
      "Epoch: 9000, Loss: 0.004198210840730959\n",
      "Epoch: 10000, Loss: 0.0033094094764096913\n"
     ]
    }
   ],
   "source": [
    "# XOR dataset\n",
    "X = np.array([[0, 0], [0, 1], [1, 0], [1, 1]])\n",
    "y = np.array([[0], [1], [1], [0]])\n",
    "\n",
    "# Create and train the neural network\n",
    "input_size = 2\n",
    "hidden_size = 2\n",
    "output_size = 1\n",
    "epochs = 10000\n",
    "learning_rate = 0.1\n",
    "\n",
    "nn = NeuralNetwork(input_size, hidden_size, output_size)\n",
    "losses = nn.train(X, y, epochs, learning_rate)"
   ]
  },
  {
   "cell_type": "code",
   "execution_count": 190,
   "metadata": {},
   "outputs": [
    {
     "name": "stdout",
     "output_type": "stream",
     "text": [
      "Predictions:\n",
      "Input: [0 0], Prediction: [0.04908903]\n",
      "Input: [0 1], Prediction: [0.94526157]\n",
      "Input: [1 0], Prediction: [0.94537215]\n",
      "Input: [1 1], Prediction: [0.06960289]\n"
     ]
    }
   ],
   "source": [
    "predictions = nn.predict(X)\n",
    "print(\"Predictions:\")\n",
    "for i in range(len(X)):\n",
    "    print(f\"Input: {X[i]}, Prediction: {predictions[i]}\")"
   ]
  },
  {
   "cell_type": "code",
   "execution_count": 191,
   "metadata": {},
   "outputs": [
    {
     "data": {
      "image/png": "[encoded data removed]",
      "text/plain": [
       "<Figure size 1000x500 with 1 Axes>"
      ]
     },
     "metadata": {},
     "output_type": "display_data"
    }
   ],
   "source": [
    "plt.figure(figsize=(10, 5))\n",
    "sns.lineplot(x=range(epochs), y=losses)\n",
    "plt.xlabel(\"Epoch\")\n",
    "plt.ylabel(\"Loss\")\n",
    "plt.title(\"Train loss\")\n",
    "plt.show()"
   ]
  },
  {
   "cell_type": "markdown",
   "metadata": {},
   "source": [
    "## Minibatch SGD\n"
   ]
  },
  {
   "cell_type": "code",
   "execution_count": 192,
   "metadata": {},
   "outputs": [],
   "source": [
    "class DenseLayer:\n",
    "    def __init__(self, input_size, output_size):\n",
    "        self.weights = np.random.randn(input_size, output_size)\n",
    "        self.biases = np.random.randn(output_size)\n",
    "\n",
    "    def forward(self, inputs):\n",
    "        self.inputs = inputs\n",
    "        self.weighted_sum = inputs @ self.weights + self.biases\n",
    "        self.output = sigmoid(self.weighted_sum)\n",
    "        return self.output\n",
    "\n",
    "    def backward(self, delta):\n",
    "        self.delta = delta * sigmoid_derivative(self.output)\n",
    "        self.weights_gradient = self.inputs.T @ self.delta\n",
    "        self.biases_gradient = np.sum(self.delta, axis=0)\n",
    "        return self.delta @ self.weights.T\n",
    "\n",
    "    def update_weights(self, learning_rate):\n",
    "        self.weights += learning_rate * self.weights_gradient\n",
    "        self.biases += learning_rate * self.biases_gradient"
   ]
  },
  {
   "cell_type": "code",
   "execution_count": 193,
   "metadata": {},
   "outputs": [],
   "source": [
    "class NeuralNetwork:\n",
    "    def __init__(self, input_size, hidden_size, output_size):\n",
    "        self.hidden_layer = DenseLayer(input_size, hidden_size)\n",
    "        self.output_layer = DenseLayer(hidden_size, output_size)\n",
    "\n",
    "    def forward(self, X):\n",
    "        hidden_output = self.hidden_layer.forward(X)\n",
    "        output = self.output_layer.forward(hidden_output)\n",
    "        return output\n",
    "\n",
    "    def backward(self, X, y, output):\n",
    "        output_error = y - output\n",
    "        output_delta = self.output_layer.backward(output_error)\n",
    "        self.hidden_layer.backward(output_delta)\n",
    "\n",
    "    def update_weights(self, learning_rate):\n",
    "        self.hidden_layer.update_weights(learning_rate)\n",
    "        self.output_layer.update_weights(learning_rate)\n",
    "\n",
    "    def train(self, X, y, epochs, learning_rate, batch_size):\n",
    "        n_samples = X.shape[0]\n",
    "        losses = []\n",
    "        for epoch in range(epochs):\n",
    "            indices = np.arange(n_samples)\n",
    "            np.random.shuffle(indices)\n",
    "            X_shuffled = X[indices]\n",
    "            y_shuffled = y[indices]\n",
    "\n",
    "            for start_idx in range(0, n_samples, batch_size):\n",
    "                end_idx = min(start_idx + batch_size, n_samples)\n",
    "                X_batch = X_shuffled[start_idx:end_idx]\n",
    "                y_batch = y_shuffled[start_idx:end_idx]\n",
    "\n",
    "                output = self.forward(X_batch)\n",
    "                loss = mse(y_batch, output)\n",
    "                losses.append(loss)\n",
    "\n",
    "                self.backward(X_batch, y_batch, output)\n",
    "                self.update_weights(learning_rate)\n",
    "\n",
    "            if (epoch + 1) % 1000 == 0:\n",
    "                print(\n",
    "                    f\"Epoch: {epoch + 1}, Loss: {np.mean(losses[-(n_samples // batch_size):])}\"\n",
    "                )\n",
    "\n",
    "        return losses"
   ]
  },
  {
   "cell_type": "code",
   "execution_count": 195,
   "metadata": {},
   "outputs": [
    {
     "name": "stdout",
     "output_type": "stream",
     "text": [
      "Epoch: 1000, Loss: 0.2466635625105993\n",
      "Epoch: 2000, Loss: 0.2112633113770705\n",
      "Epoch: 3000, Loss: 0.18258686309330274\n",
      "Epoch: 4000, Loss: 0.15933071149705474\n",
      "Epoch: 5000, Loss: 0.07296252580782123\n",
      "Epoch: 6000, Loss: 0.02128890380452398\n",
      "Epoch: 7000, Loss: 0.010281949455954054\n",
      "Epoch: 8000, Loss: 0.0064732927226284495\n",
      "Epoch: 9000, Loss: 0.0046356054048823135\n",
      "Epoch: 10000, Loss: 0.003576696343405833\n",
      "\n",
      "Predictions:\n",
      "Input: [0 0] - Real: 0 - Prediction: 0.0496\n",
      "Input: [0 1] - Real: 1 - Prediction: 0.9432\n",
      "Input: [1 0] - Real: 1 - Prediction: 0.9433\n",
      "Input: [1 1] - Real: 0 - Prediction: 0.0735\n"
     ]
    }
   ],
   "source": [
    "X = np.array([[0, 0], [0, 1], [1, 0], [1, 1]])\n",
    "y = np.array([[0], [1], [1], [0]])\n",
    "\n",
    "input_size = 2\n",
    "hidden_size = 2\n",
    "output_size = 1\n",
    "model = NeuralNetwork(input_size, hidden_size, output_size)\n",
    "\n",
    "epochs = 10000\n",
    "batch_size = 2\n",
    "learning_rate = 0.1\n",
    "losses = model.train(X, y, epochs, learning_rate, batch_size)\n",
    "\n",
    "\n",
    "predictions = model.forward(X)\n",
    "print(\"\\nPredictions:\")\n",
    "for i, (X, y, pred) in enumerate(zip(X, y, predictions)):\n",
    "    print(f\"Input: {X} - Real: {y[0]} - Prediction: {pred[0]:.4f}\")"
   ]
  }
 ],
 "metadata": {
  "kernelspec": {
   "display_name": "dl1_env",
   "language": "python",
   "name": "python3"
  },
  "language_info": {
   "codemirror_mode": {
    "name": "ipython",
    "version": 3
   },
   "file_extension": ".py",
   "mimetype": "text/x-python",
   "name": "python",
   "nbconvert_exporter": "python",
   "pygments_lexer": "ipython3",
   "version": "3.11.5"
  }
 },
 "nbformat": 4,
 "nbformat_minor": 2
}
