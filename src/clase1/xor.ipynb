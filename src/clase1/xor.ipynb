{
 "cells": [
  {
   "cell_type": "code",
   "execution_count": 229,
   "metadata": {},
   "outputs": [],
   "source": [
    "import numpy as np\n",
    "import matplotlib.pyplot as plt\n",
    "import seaborn as sns"
   ]
  },
  {
   "cell_type": "code",
   "execution_count": 230,
   "metadata": {},
   "outputs": [],
   "source": [
    "def sigmoid(x):\n",
    "    return 1 / (1 + np.exp(-x))\n",
    "\n",
    "\n",
    "def sigmoid_derivative(x):\n",
    "    return x * (1 - x)"
   ]
  },
  {
   "cell_type": "code",
   "execution_count": 231,
   "metadata": {},
   "outputs": [],
   "source": [
    "def mse(y, output):\n",
    "    return np.mean((y - output) ** 2)"
   ]
  },
  {
   "cell_type": "markdown",
   "metadata": {},
   "source": [
    "# Vanilla GD\n"
   ]
  },
  {
   "cell_type": "markdown",
   "metadata": {},
   "source": [
    "Weights actualizados usando el gradiente sobre el dataset entero:\n",
    "\n",
    "$$\n",
    "\\mathbf{W} \\leftarrow \\mathbf{W}-\\eta \\cdot \\nabla_{\\mathbf{W}} J(\\mathbf{W} ; \\mathbf{X}, \\mathbf{y})\n",
    "$$\n",
    "\n",
    "Donde:\n",
    "\n",
    "- $W$ weights.\n",
    "- $\\eta$ learning rate.\n",
    "- $J$ pérdida.\n",
    "- $\\nabla_{\\mathrm{W}} J$ gradiente de la función de pérdida con respecto a los weights, calculado usando el dataset entero $\\mathbf{X}$ y los labels $\\mathbf{y}$.\n"
   ]
  },
  {
   "cell_type": "code",
   "execution_count": 266,
   "metadata": {},
   "outputs": [],
   "source": [
    "class NeuralNetwork:\n",
    "    def __init__(self, input_size, hidden_size, output_size):\n",
    "        # Inicializa los weights y biases\n",
    "\n",
    "        # W1: weights de la layer de entrada a la layer oculta\n",
    "        # b1: biases de la layer oculta\n",
    "        # W2: weights de la layer oculta a la layer de salida\n",
    "        # b2: biases de la layer de salida\n",
    "        self.W1 = np.random.randn(input_size, hidden_size)\n",
    "        self.b1 = np.random.randn(hidden_size)\n",
    "        self.W2 = np.random.randn(hidden_size, output_size)\n",
    "        self.b2 = np.random.randn(output_size)\n",
    "\n",
    "    def forward(self, X):\n",
    "        # Suma ponderada de los inputs y biases para la layer oculta\n",
    "        self.z1 = X @ self.W1 + self.b1\n",
    "        # Aplica la sigmoidea a la suma ponderada\n",
    "        self.a1 = sigmoid(self.z1)\n",
    "        # Suma ponderada de las salidas de la layer oculta y los biases para la layer de salida\n",
    "        self.z2 = self.a1 @ self.W2 + self.b2\n",
    "        # sigmoidea a la suma ponderada de la layer de salida\n",
    "        output = sigmoid(self.z2)\n",
    "        return output\n",
    "\n",
    "    def backward(self, X, y, output):\n",
    "        # Error entre la salida predicha y los labels verdaderos\n",
    "        output_error = y - output\n",
    "        output_delta = output_error * sigmoid_derivative(output)\n",
    "\n",
    "        # Error de layer capa oculta propagando el delta\n",
    "        hidden_error = output_delta @ self.W2.T\n",
    "        # Delta de la layer oculta usando la derivada de la sigmoidal\n",
    "        hidden_delta = hidden_error * sigmoid_derivative(self.a1)\n",
    "\n",
    "        # Gradientes para los weights/biases\n",
    "        # Gradiente de W2 usando el producto de las salidas de la layer oculta y el delta de salida\n",
    "        self.W2_gradient = self.a1.T @ output_delta\n",
    "\n",
    "        # Gradiente de b2 sumando el delta de salida\n",
    "        self.b2_gradient = np.sum(output_delta, axis=0)\n",
    "\n",
    "        # Gradiente de W1 usando el producto del input X y el delta oculto\n",
    "        self.W1_gradient = X.T @ hidden_delta\n",
    "\n",
    "        # gradiente DE b1 sumando el delta oculto\n",
    "        self.b1_gradient = np.sum(hidden_delta, axis=0)\n",
    "\n",
    "    def update_weights(self, learning_rate):\n",
    "        # Actualiza weights y biases con gradient descent\n",
    "        self.W2 += learning_rate * self.W2_gradient\n",
    "        self.b2 += learning_rate * self.b2_gradient\n",
    "        self.W1 += learning_rate * self.W1_gradient\n",
    "        self.b1 += learning_rate * self.b1_gradient\n",
    "\n",
    "    def train(self, X, y, epochs, learning_rate):\n",
    "        losses = []\n",
    "        for epoch in range(epochs):\n",
    "            output = self.forward(X)\n",
    "\n",
    "            # MSE - Pérdida\n",
    "            loss = mse(y, output)\n",
    "            losses.append(loss)\n",
    "\n",
    "            self.backward(X, y, output)\n",
    "\n",
    "            self.update_weights(learning_rate)\n",
    "\n",
    "            if (epoch + 1) % 1000 == 0:\n",
    "                print(f\"Epoch: {epoch + 1}, MSE: {loss}\")\n",
    "        return losses\n",
    "\n",
    "    def predict(self, X):\n",
    "        # Make predictions using the trained network\n",
    "        return self.forward(X)"
   ]
  },
  {
   "cell_type": "code",
   "execution_count": 267,
   "metadata": {},
   "outputs": [
    {
     "name": "stdout",
     "output_type": "stream",
     "text": [
      "Epoch: 1000, MSE: 0.1945636664724581\n",
      "Epoch: 2000, MSE: 0.12945217605735349\n",
      "Epoch: 3000, MSE: 0.03687601184694807\n",
      "Epoch: 4000, MSE: 0.014304490350781362\n",
      "Epoch: 5000, MSE: 0.008102547377053368\n",
      "Epoch: 6000, MSE: 0.005484586613667599\n",
      "Epoch: 7000, MSE: 0.004088965003541905\n",
      "Epoch: 8000, MSE: 0.0032353328764239075\n",
      "Epoch: 9000, MSE: 0.002664389311726568\n",
      "Epoch: 10000, MSE: 0.0022579094297399127\n"
     ]
    }
   ],
   "source": [
    "X = np.array([[0, 0], [0, 1], [1, 0], [1, 1]])\n",
    "y = np.array([[0], [1], [1], [0]])\n",
    "\n",
    "input_size = 2\n",
    "hidden_size = 2\n",
    "output_size = 1\n",
    "epochs = 10000\n",
    "learning_rate = 0.1\n",
    "\n",
    "nn = NeuralNetwork(input_size, hidden_size, output_size)\n",
    "losses = nn.train(X, y, epochs, learning_rate)"
   ]
  },
  {
   "cell_type": "code",
   "execution_count": 268,
   "metadata": {},
   "outputs": [
    {
     "name": "stdout",
     "output_type": "stream",
     "text": [
      "\n",
      "Predicciones:\n",
      "Input: [0 0] - Real: 0 - Predicción: 0.0408\n",
      "Input: [0 1] - Real: 1 - Predicción: 0.9549\n",
      "Input: [1 0] - Real: 1 - Predicción: 0.9548\n",
      "Input: [1 1] - Real: 0 - Predicción: 0.0573\n"
     ]
    }
   ],
   "source": [
    "predictions = nn.forward(X)\n",
    "print(\"\\nPredicciones:\")\n",
    "for i, (X_l, y_l, pred) in enumerate(zip(X, y, predictions)):\n",
    "    print(f\"Input: {X_l} - Real: {y_l[0]} - Predicción: {pred[0]:.4f}\")"
   ]
  },
  {
   "cell_type": "code",
   "execution_count": 269,
   "metadata": {},
   "outputs": [
    {
     "data": {
      "image/png": "[encoded data removed]",
      "text/plain": [
       "<Figure size 1000x500 with 1 Axes>"
      ]
     },
     "metadata": {},
     "output_type": "display_data"
    }
   ],
   "source": [
    "plt.figure(figsize=(10, 5))\n",
    "sns.lineplot(x=range(epochs), y=losses)\n",
    "plt.xlabel(\"Epoch\")\n",
    "plt.ylabel(\"MSE\")\n",
    "plt.title(\"Loss de training\")\n",
    "plt.show()"
   ]
  },
  {
   "cell_type": "code",
   "execution_count": 270,
   "metadata": {},
   "outputs": [
    {
     "data": {
      "image/png": "[encoded data removed]",
      "text/plain": [
       "<Figure size 640x480 with 1 Axes>"
      ]
     },
     "metadata": {},
     "output_type": "display_data"
    }
   ],
   "source": [
    "grid = np.mgrid[-0.5:1.5:100j, -0.5:1.5:100j].reshape(2, -1).T\n",
    "predictions = nn.forward(grid).reshape(100, 100)\n",
    "\n",
    "plt.contourf(\n",
    "    grid[:, 0].reshape(100, 100), grid[:, 1].reshape(100, 100), predictions, alpha=0.7\n",
    ")\n",
    "plt.scatter(X[:, 0], X[:, 1], c=y[:, 0], cmap=\"viridis\", edgecolors=\"k\")\n",
    "plt.title(\"Fronteras decisión - XOR\")\n",
    "plt.xlabel(\"Input 1\")\n",
    "plt.ylabel(\"Input 2\")\n",
    "\n",
    "plt.xlim(-0.5, 1.5)\n",
    "plt.ylim(-0.5, 1.5)\n",
    "\n",
    "plt.show()"
   ]
  },
  {
   "cell_type": "markdown",
   "metadata": {},
   "source": [
    "# Minibatch\n"
   ]
  },
  {
   "cell_type": "markdown",
   "metadata": {},
   "source": [
    "Weights se actualizan para cada batch del dataset:\n",
    "\n",
    "$$\n",
    "\\mathbf{W} \\leftarrow \\mathbf{W}-\\eta \\cdot \\nabla_{\\mathbf{W}} J\\left(\\mathbf{W} ; \\mathbf{X}_{\\text {batch }}, \\mathbf{y}_{\\text {batch }}\\right)\n",
    "$$\n",
    "\n",
    "Donde:\n",
    "\n",
    "- $W$ weights.\n",
    "- $\\eta$ learning rate.\n",
    "- $J$ pérdida.\n",
    "- $\\nabla_{\\mathrm{W}} J$ gradiente de la función de pérdida.\n",
    "- $\\mathbf{X}_{\\text {batch }}$ y $\\mathbf{y}_{\\text {batch }}$ son subsets de los datos de training.\n"
   ]
  },
  {
   "cell_type": "code",
   "execution_count": 271,
   "metadata": {},
   "outputs": [],
   "source": [
    "class DenseLayer:\n",
    "    def __init__(self, input_size, output_size):\n",
    "        self.weights = np.random.randn(input_size, output_size)\n",
    "        self.biases = np.random.randn(output_size)\n",
    "\n",
    "    def forward(self, inputs):\n",
    "        self.inputs = inputs\n",
    "        # Suma ponderada de inputs y weights + sesgos\n",
    "        self.weighted_sum = inputs @ self.weights + self.biases\n",
    "        # Aplica sigmoidea a la suma ponderada\n",
    "        self.output = sigmoid(self.weighted_sum)\n",
    "        return self.output\n",
    "\n",
    "    def backward(self, delta):\n",
    "        self.delta = delta * sigmoid_derivative(self.output)\n",
    "        # Gradiente de los weights con chain rule\n",
    "        self.weights_gradient = self.inputs.T @ self.delta\n",
    "        # Gradiente de los biases sumando los deltas\n",
    "        self.biases_gradient = np.sum(self.delta, axis=0)\n",
    "\n",
    "        # Propaga el error hacia atrás multiplicando los deltas por los weights transpuestos\n",
    "        return self.delta @ self.weights.T\n",
    "\n",
    "    def update_weights(self, learning_rate):\n",
    "        # Actualiza weights y biases con gradient descent\n",
    "        self.weights += learning_rate * self.weights_gradient\n",
    "        self.biases += learning_rate * self.biases_gradient"
   ]
  },
  {
   "cell_type": "code",
   "execution_count": 272,
   "metadata": {},
   "outputs": [],
   "source": [
    "class NeuralNetwork:\n",
    "    def __init__(self, input_size, hidden_size, output_size):\n",
    "        self.hidden_layer = DenseLayer(input_size, hidden_size)\n",
    "        self.output_layer = DenseLayer(hidden_size, output_size)\n",
    "\n",
    "    def forward(self, X):\n",
    "        hidden_output = self.hidden_layer.forward(X)\n",
    "        output = self.output_layer.forward(hidden_output)\n",
    "        return output\n",
    "\n",
    "    def backward(self, X, y, output):\n",
    "        # Backprop a traves de las layers\n",
    "        output_error = y - output\n",
    "        output_delta = self.output_layer.backward(output_error)\n",
    "        self.hidden_layer.backward(output_delta)\n",
    "\n",
    "    def update_weights(self, learning_rate):\n",
    "        # Actualiza weights y biases de las layers\n",
    "        self.hidden_layer.update_weights(learning_rate)\n",
    "        self.output_layer.update_weights(learning_rate)\n",
    "\n",
    "    def train(self, X, y, epochs, learning_rate, batch_size):\n",
    "        n_samples = X.shape[0]\n",
    "        losses = []\n",
    "        for epoch in range(epochs):\n",
    "            # Shuffle de los datos de training en cada epoch\n",
    "            indices = np.arange(n_samples)\n",
    "            np.random.shuffle(indices)\n",
    "            X_shuffled = X[indices]\n",
    "            y_shuffled = y[indices]\n",
    "\n",
    "            # Divide los datos en minibatches y entrena por batch\n",
    "            for start_idx in range(0, n_samples, batch_size):\n",
    "                end_idx = min(start_idx + batch_size, n_samples)\n",
    "                X_batch = X_shuffled[start_idx:end_idx]\n",
    "                y_batch = y_shuffled[start_idx:end_idx]\n",
    "\n",
    "                output = self.forward(X_batch)\n",
    "\n",
    "                # MSE como función de pérdida\n",
    "                loss = mse(y_batch, output)\n",
    "                losses.append(loss)\n",
    "\n",
    "                # Backprop y actualización de weights\n",
    "                self.backward(X_batch, y_batch, output)\n",
    "                self.update_weights(learning_rate)\n",
    "\n",
    "            if (epoch + 1) % 1000 == 0:\n",
    "                print(\n",
    "                    f\"Epoch: {epoch + 1}, MSE: {np.mean(losses[-(n_samples // batch_size):])}\"\n",
    "                )\n",
    "\n",
    "        return losses"
   ]
  },
  {
   "cell_type": "code",
   "execution_count": 273,
   "metadata": {},
   "outputs": [
    {
     "name": "stdout",
     "output_type": "stream",
     "text": [
      "Epoch: 1000, MSE: 0.25020179024973754\n",
      "Epoch: 2000, MSE: 0.25407406447761993\n",
      "Epoch: 3000, MSE: 0.2523539495010033\n",
      "Epoch: 4000, MSE: 0.2370275696368695\n",
      "Epoch: 5000, MSE: 0.18770591625268898\n",
      "Epoch: 6000, MSE: 0.06213417143333233\n",
      "Epoch: 7000, MSE: 0.01657533690606681\n",
      "Epoch: 8000, MSE: 0.00852293054517663\n",
      "Epoch: 9000, MSE: 0.005550096704988426\n",
      "Epoch: 10000, MSE: 0.004065307667981204\n",
      "\n",
      "Predicciones:\n",
      "Input: [0 0] - Real: 0 - Predicción: 0.0703\n",
      "Input: [0 1] - Real: 1 - Predicción: 0.9418\n",
      "Input: [1 0] - Real: 1 - Predicción: 0.9367\n",
      "Input: [1 1] - Real: 0 - Predicción: 0.0625\n"
     ]
    }
   ],
   "source": [
    "X = np.array([[0, 0], [0, 1], [1, 0], [1, 1]])\n",
    "y = np.array([[0], [1], [1], [0]])\n",
    "\n",
    "input_size = 2\n",
    "hidden_size = 2\n",
    "output_size = 1\n",
    "model = NeuralNetwork(input_size, hidden_size, output_size)\n",
    "\n",
    "epochs = 10000\n",
    "batch_size = 2\n",
    "learning_rate = 0.1\n",
    "losses = model.train(X, y, epochs, learning_rate, batch_size)\n",
    "\n",
    "\n",
    "predictions = model.forward(X)\n",
    "print(\"\\nPredicciones:\")\n",
    "for i, (X, y, pred) in enumerate(zip(X, y, predictions)):\n",
    "    print(f\"Input: {X} - Real: {y[0]} - Predicción: {pred[0]:.4f}\")"
   ]
  }
 ],
 "metadata": {
  "kernelspec": {
   "display_name": "dl1_env",
   "language": "python",
   "name": "python3"
  },
  "language_info": {
   "codemirror_mode": {
    "name": "ipython",
    "version": 3
   },
   "file_extension": ".py",
   "mimetype": "text/x-python",
   "name": "python",
   "nbconvert_exporter": "python",
   "pygments_lexer": "ipython3",
   "version": "3.11.5"
  }
 },
 "nbformat": 4,
 "nbformat_minor": 2
}
